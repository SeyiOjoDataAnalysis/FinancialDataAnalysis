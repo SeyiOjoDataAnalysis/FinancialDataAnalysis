{
 "cells": [
  {
   "cell_type": "markdown",
   "id": "581ef6c3",
   "metadata": {},
   "source": [
    "GROWTH RATES + PROJECTIONS"
   ]
  },
  {
   "cell_type": "code",
   "execution_count": 16,
   "id": "c70fed30",
   "metadata": {},
   "outputs": [],
   "source": [
    "import pandas as pd"
   ]
  },
  {
   "cell_type": "markdown",
   "id": "4a548a58",
   "metadata": {},
   "source": [
    "The income statement shows a company’s profitability over a specified period.\n",
    "The beginning line item is revenue, and when various costs/expenses are deducted, the ending line item is net income.\n",
    "It allows for analysis of historical growth and operational performance"
   ]
  },
  {
   "cell_type": "markdown",
   "id": "9516191a",
   "metadata": {},
   "source": [
    "Let's create a simplified Income Statement"
   ]
  },
  {
   "cell_type": "code",
   "execution_count": 17,
   "id": "a308be8d",
   "metadata": {},
   "outputs": [],
   "source": [
    "income_statement = [{'2015': 5, '2016':6, '2017':8, '2018':10, '2019':13}, {'2015': 4, '2016':4.8, '2017':6.1, '2018':8, '2019':10},{'2015': 1, '2016':1.2, '2017':1.9, '2018':2, '2019':3},] \n"
   ]
  },
  {
   "cell_type": "code",
   "execution_count": 18,
   "id": "f337d3f2",
   "metadata": {},
   "outputs": [
    {
     "data": {
      "text/plain": [
       "[{'2015': 5, '2016': 6, '2017': 8, '2018': 10, '2019': 13},\n",
       " {'2015': 4, '2016': 4.8, '2017': 6.1, '2018': 8, '2019': 10},\n",
       " {'2015': 1, '2016': 1.2, '2017': 1.9, '2018': 2, '2019': 3}]"
      ]
     },
     "execution_count": 18,
     "metadata": {},
     "output_type": "execute_result"
    }
   ],
   "source": [
    "income_statement"
   ]
  },
  {
   "cell_type": "code",
   "execution_count": 19,
   "id": "2c1a82ac",
   "metadata": {},
   "outputs": [],
   "source": [
    "df = pd.DataFrame(income_statement, index =['Revenue', 'Expenses', 'Profit']) "
   ]
  },
  {
   "cell_type": "code",
   "execution_count": 20,
   "id": "c6c7eb25",
   "metadata": {},
   "outputs": [
    {
     "data": {
      "text/html": [
       "<div>\n",
       "<style scoped>\n",
       "    .dataframe tbody tr th:only-of-type {\n",
       "        vertical-align: middle;\n",
       "    }\n",
       "\n",
       "    .dataframe tbody tr th {\n",
       "        vertical-align: top;\n",
       "    }\n",
       "\n",
       "    .dataframe thead th {\n",
       "        text-align: right;\n",
       "    }\n",
       "</style>\n",
       "<table border=\"1\" class=\"dataframe\">\n",
       "  <thead>\n",
       "    <tr style=\"text-align: right;\">\n",
       "      <th></th>\n",
       "      <th>2015</th>\n",
       "      <th>2016</th>\n",
       "      <th>2017</th>\n",
       "      <th>2018</th>\n",
       "      <th>2019</th>\n",
       "    </tr>\n",
       "  </thead>\n",
       "  <tbody>\n",
       "    <tr>\n",
       "      <th>Revenue</th>\n",
       "      <td>5</td>\n",
       "      <td>6.0</td>\n",
       "      <td>8.0</td>\n",
       "      <td>10</td>\n",
       "      <td>13</td>\n",
       "    </tr>\n",
       "    <tr>\n",
       "      <th>Expenses</th>\n",
       "      <td>4</td>\n",
       "      <td>4.8</td>\n",
       "      <td>6.1</td>\n",
       "      <td>8</td>\n",
       "      <td>10</td>\n",
       "    </tr>\n",
       "    <tr>\n",
       "      <th>Profit</th>\n",
       "      <td>1</td>\n",
       "      <td>1.2</td>\n",
       "      <td>1.9</td>\n",
       "      <td>2</td>\n",
       "      <td>3</td>\n",
       "    </tr>\n",
       "  </tbody>\n",
       "</table>\n",
       "</div>"
      ],
      "text/plain": [
       "          2015  2016  2017  2018  2019\n",
       "Revenue      5   6.0   8.0    10    13\n",
       "Expenses     4   4.8   6.1     8    10\n",
       "Profit       1   1.2   1.9     2     3"
      ]
     },
     "execution_count": 20,
     "metadata": {},
     "output_type": "execute_result"
    }
   ],
   "source": [
    "df"
   ]
  },
  {
   "cell_type": "code",
   "execution_count": 21,
   "id": "04268ed8",
   "metadata": {},
   "outputs": [],
   "source": [
    "df['Year on Year Growth'] = ((df['2019'] - df['2018'])/df['2018'])* 100"
   ]
  },
  {
   "cell_type": "code",
   "execution_count": 22,
   "id": "c590f627",
   "metadata": {},
   "outputs": [
    {
     "data": {
      "text/html": [
       "<div>\n",
       "<style scoped>\n",
       "    .dataframe tbody tr th:only-of-type {\n",
       "        vertical-align: middle;\n",
       "    }\n",
       "\n",
       "    .dataframe tbody tr th {\n",
       "        vertical-align: top;\n",
       "    }\n",
       "\n",
       "    .dataframe thead th {\n",
       "        text-align: right;\n",
       "    }\n",
       "</style>\n",
       "<table border=\"1\" class=\"dataframe\">\n",
       "  <thead>\n",
       "    <tr style=\"text-align: right;\">\n",
       "      <th></th>\n",
       "      <th>2015</th>\n",
       "      <th>2016</th>\n",
       "      <th>2017</th>\n",
       "      <th>2018</th>\n",
       "      <th>2019</th>\n",
       "      <th>Year on Year Growth</th>\n",
       "    </tr>\n",
       "  </thead>\n",
       "  <tbody>\n",
       "    <tr>\n",
       "      <th>Revenue</th>\n",
       "      <td>5</td>\n",
       "      <td>6.0</td>\n",
       "      <td>8.0</td>\n",
       "      <td>10</td>\n",
       "      <td>13</td>\n",
       "      <td>30.0</td>\n",
       "    </tr>\n",
       "    <tr>\n",
       "      <th>Expenses</th>\n",
       "      <td>4</td>\n",
       "      <td>4.8</td>\n",
       "      <td>6.1</td>\n",
       "      <td>8</td>\n",
       "      <td>10</td>\n",
       "      <td>25.0</td>\n",
       "    </tr>\n",
       "    <tr>\n",
       "      <th>Profit</th>\n",
       "      <td>1</td>\n",
       "      <td>1.2</td>\n",
       "      <td>1.9</td>\n",
       "      <td>2</td>\n",
       "      <td>3</td>\n",
       "      <td>50.0</td>\n",
       "    </tr>\n",
       "  </tbody>\n",
       "</table>\n",
       "</div>"
      ],
      "text/plain": [
       "          2015  2016  2017  2018  2019  Year on Year Growth\n",
       "Revenue      5   6.0   8.0    10    13                 30.0\n",
       "Expenses     4   4.8   6.1     8    10                 25.0\n",
       "Profit       1   1.2   1.9     2     3                 50.0"
      ]
     },
     "execution_count": 22,
     "metadata": {},
     "output_type": "execute_result"
    }
   ],
   "source": [
    "df"
   ]
  },
  {
   "cell_type": "markdown",
   "id": "de9ef93a",
   "metadata": {},
   "source": [
    "Looking at CAGR: Compounded Annual Growth Rate\n",
    "CAGR = Mean Growth Rates of numeric variables over years"
   ]
  },
  {
   "cell_type": "code",
   "execution_count": 23,
   "id": "d3f8a7bd",
   "metadata": {},
   "outputs": [
    {
     "data": {
      "text/html": [
       "<div>\n",
       "<style scoped>\n",
       "    .dataframe tbody tr th:only-of-type {\n",
       "        vertical-align: middle;\n",
       "    }\n",
       "\n",
       "    .dataframe tbody tr th {\n",
       "        vertical-align: top;\n",
       "    }\n",
       "\n",
       "    .dataframe thead th {\n",
       "        text-align: right;\n",
       "    }\n",
       "</style>\n",
       "<table border=\"1\" class=\"dataframe\">\n",
       "  <thead>\n",
       "    <tr style=\"text-align: right;\">\n",
       "      <th></th>\n",
       "      <th>2015</th>\n",
       "      <th>2016</th>\n",
       "      <th>2017</th>\n",
       "      <th>2018</th>\n",
       "      <th>2019</th>\n",
       "      <th>Year on Year Growth</th>\n",
       "      <th>CAGR</th>\n",
       "    </tr>\n",
       "  </thead>\n",
       "  <tbody>\n",
       "    <tr>\n",
       "      <th>Revenue</th>\n",
       "      <td>5</td>\n",
       "      <td>6.0</td>\n",
       "      <td>8.0</td>\n",
       "      <td>10</td>\n",
       "      <td>13</td>\n",
       "      <td>30.0</td>\n",
       "      <td>26.982343</td>\n",
       "    </tr>\n",
       "    <tr>\n",
       "      <th>Expenses</th>\n",
       "      <td>4</td>\n",
       "      <td>4.8</td>\n",
       "      <td>6.1</td>\n",
       "      <td>8</td>\n",
       "      <td>10</td>\n",
       "      <td>25.0</td>\n",
       "      <td>25.743343</td>\n",
       "    </tr>\n",
       "    <tr>\n",
       "      <th>Profit</th>\n",
       "      <td>1</td>\n",
       "      <td>1.2</td>\n",
       "      <td>1.9</td>\n",
       "      <td>2</td>\n",
       "      <td>3</td>\n",
       "      <td>50.0</td>\n",
       "      <td>31.607401</td>\n",
       "    </tr>\n",
       "  </tbody>\n",
       "</table>\n",
       "</div>"
      ],
      "text/plain": [
       "          2015  2016  2017  2018  2019  Year on Year Growth       CAGR\n",
       "Revenue      5   6.0   8.0    10    13                 30.0  26.982343\n",
       "Expenses     4   4.8   6.1     8    10                 25.0  25.743343\n",
       "Profit       1   1.2   1.9     2     3                 50.0  31.607401"
      ]
     },
     "execution_count": 23,
     "metadata": {},
     "output_type": "execute_result"
    }
   ],
   "source": [
    "df['CAGR'] = ((df['2019']/df['2015'])**(1/4.0)-1)*100\n",
    "df"
   ]
  },
  {
   "cell_type": "code",
   "execution_count": 25,
   "id": "90b223b3",
   "metadata": {},
   "outputs": [
    {
     "data": {
      "text/html": [
       "<div>\n",
       "<style scoped>\n",
       "    .dataframe tbody tr th:only-of-type {\n",
       "        vertical-align: middle;\n",
       "    }\n",
       "\n",
       "    .dataframe tbody tr th {\n",
       "        vertical-align: top;\n",
       "    }\n",
       "\n",
       "    .dataframe thead th {\n",
       "        text-align: right;\n",
       "    }\n",
       "</style>\n",
       "<table border=\"1\" class=\"dataframe\">\n",
       "  <thead>\n",
       "    <tr style=\"text-align: right;\">\n",
       "      <th></th>\n",
       "      <th>2015</th>\n",
       "      <th>2016</th>\n",
       "      <th>2017</th>\n",
       "      <th>2018</th>\n",
       "      <th>2019</th>\n",
       "      <th>Year on Year Growth</th>\n",
       "      <th>CAGR</th>\n",
       "      <th>Difference between CAGR &amp; Year on Year Growth</th>\n",
       "    </tr>\n",
       "  </thead>\n",
       "  <tbody>\n",
       "    <tr>\n",
       "      <th>Revenue</th>\n",
       "      <td>5</td>\n",
       "      <td>6.0</td>\n",
       "      <td>8.0</td>\n",
       "      <td>10</td>\n",
       "      <td>13</td>\n",
       "      <td>30.0</td>\n",
       "      <td>26.982343</td>\n",
       "      <td>3.017657</td>\n",
       "    </tr>\n",
       "    <tr>\n",
       "      <th>Expenses</th>\n",
       "      <td>4</td>\n",
       "      <td>4.8</td>\n",
       "      <td>6.1</td>\n",
       "      <td>8</td>\n",
       "      <td>10</td>\n",
       "      <td>25.0</td>\n",
       "      <td>25.743343</td>\n",
       "      <td>0.743343</td>\n",
       "    </tr>\n",
       "    <tr>\n",
       "      <th>Profit</th>\n",
       "      <td>1</td>\n",
       "      <td>1.2</td>\n",
       "      <td>1.9</td>\n",
       "      <td>2</td>\n",
       "      <td>3</td>\n",
       "      <td>50.0</td>\n",
       "      <td>31.607401</td>\n",
       "      <td>18.392599</td>\n",
       "    </tr>\n",
       "  </tbody>\n",
       "</table>\n",
       "</div>"
      ],
      "text/plain": [
       "          2015  2016  2017  2018  2019  Year on Year Growth       CAGR  \\\n",
       "Revenue      5   6.0   8.0    10    13                 30.0  26.982343   \n",
       "Expenses     4   4.8   6.1     8    10                 25.0  25.743343   \n",
       "Profit       1   1.2   1.9     2     3                 50.0  31.607401   \n",
       "\n",
       "          Difference between CAGR & Year on Year Growth  \n",
       "Revenue                                        3.017657  \n",
       "Expenses                                       0.743343  \n",
       "Profit                                        18.392599  "
      ]
     },
     "execution_count": 25,
     "metadata": {},
     "output_type": "execute_result"
    }
   ],
   "source": [
    "df['Difference between CAGR & Year on Year Growth'] = (((df['Year on Year Growth'] - df['CAGR'])**2)** 0.5)\n",
    "df"
   ]
  },
  {
   "cell_type": "markdown",
   "id": "e6477987",
   "metadata": {},
   "source": [
    "Next, we will apply this concept and analyse Apple's Income Statement"
   ]
  },
  {
   "cell_type": "code",
   "execution_count": 28,
   "id": "762561f5",
   "metadata": {},
   "outputs": [
    {
     "data": {
      "text/html": [
       "<div>\n",
       "<style scoped>\n",
       "    .dataframe tbody tr th:only-of-type {\n",
       "        vertical-align: middle;\n",
       "    }\n",
       "\n",
       "    .dataframe tbody tr th {\n",
       "        vertical-align: top;\n",
       "    }\n",
       "\n",
       "    .dataframe thead th {\n",
       "        text-align: right;\n",
       "    }\n",
       "</style>\n",
       "<table border=\"1\" class=\"dataframe\">\n",
       "  <thead>\n",
       "    <tr style=\"text-align: right;\">\n",
       "      <th></th>\n",
       "      <th>2015</th>\n",
       "      <th>2016</th>\n",
       "      <th>2017</th>\n",
       "      <th>2018</th>\n",
       "      <th>2019</th>\n",
       "      <th>Year on Year Growth</th>\n",
       "      <th>CAGR</th>\n",
       "      <th>Difference between CAGR &amp; Year on Year Growth</th>\n",
       "      <th>5 Yr Projection</th>\n",
       "    </tr>\n",
       "  </thead>\n",
       "  <tbody>\n",
       "    <tr>\n",
       "      <th>Revenue</th>\n",
       "      <td>5</td>\n",
       "      <td>6.0</td>\n",
       "      <td>8.0</td>\n",
       "      <td>10</td>\n",
       "      <td>13</td>\n",
       "      <td>30.0</td>\n",
       "      <td>26.982343</td>\n",
       "      <td>3.017657</td>\n",
       "      <td>42.920032</td>\n",
       "    </tr>\n",
       "    <tr>\n",
       "      <th>Expenses</th>\n",
       "      <td>4</td>\n",
       "      <td>4.8</td>\n",
       "      <td>6.1</td>\n",
       "      <td>8</td>\n",
       "      <td>10</td>\n",
       "      <td>25.0</td>\n",
       "      <td>25.743343</td>\n",
       "      <td>0.743343</td>\n",
       "      <td>31.435836</td>\n",
       "    </tr>\n",
       "    <tr>\n",
       "      <th>Profit</th>\n",
       "      <td>1</td>\n",
       "      <td>1.2</td>\n",
       "      <td>1.9</td>\n",
       "      <td>2</td>\n",
       "      <td>3</td>\n",
       "      <td>50.0</td>\n",
       "      <td>31.607401</td>\n",
       "      <td>18.392599</td>\n",
       "      <td>11.844666</td>\n",
       "    </tr>\n",
       "  </tbody>\n",
       "</table>\n",
       "</div>"
      ],
      "text/plain": [
       "          2015  2016  2017  2018  2019  Year on Year Growth       CAGR  \\\n",
       "Revenue      5   6.0   8.0    10    13                 30.0  26.982343   \n",
       "Expenses     4   4.8   6.1     8    10                 25.0  25.743343   \n",
       "Profit       1   1.2   1.9     2     3                 50.0  31.607401   \n",
       "\n",
       "          Difference between CAGR & Year on Year Growth  5 Yr Projection  \n",
       "Revenue                                        3.017657        42.920032  \n",
       "Expenses                                       0.743343        31.435836  \n",
       "Profit                                        18.392599        11.844666  "
      ]
     },
     "execution_count": 28,
     "metadata": {},
     "output_type": "execute_result"
    }
   ],
   "source": [
    "df['5 Yr Projection'] = df['2019']*(1+(df['CAGR']/100))**(5)\n",
    "df"
   ]
  },
  {
   "cell_type": "code",
   "execution_count": null,
   "id": "f96c00f0",
   "metadata": {},
   "outputs": [],
   "source": []
  }
 ],
 "metadata": {
  "kernelspec": {
   "display_name": "Python 3 (ipykernel)",
   "language": "python",
   "name": "python3"
  },
  "language_info": {
   "codemirror_mode": {
    "name": "ipython",
    "version": 3
   },
   "file_extension": ".py",
   "mimetype": "text/x-python",
   "name": "python",
   "nbconvert_exporter": "python",
   "pygments_lexer": "ipython3",
   "version": "3.11.4"
  }
 },
 "nbformat": 4,
 "nbformat_minor": 5
}
